{
  "nbformat": 4,
  "nbformat_minor": 0,
  "metadata": {
    "colab": {
      "name": "Copy of Forest_density with NDII.ipynb",
      "provenance": [],
      "collapsed_sections": [],
      "toc_visible": true
    },
    "kernelspec": {
      "name": "python3",
      "display_name": "Python 3"
    }
  },
  "cells": [
    {
      "cell_type": "markdown",
      "metadata": {
        "id": "NzojARAcCpV5"
      },
      "source": [
        ""
      ]
    },
    {
      "cell_type": "code",
      "metadata": {
        "id": "hyrUxU64Xl08"
      },
      "source": [
        "# Importing Necessary Libraries\n",
        "%matplotlib inline\n",
        "import numpy as np\n",
        "import pandas as pd\n",
        "import matplotlib.pyplot as plt\n",
        "plt.rcParams['figure.figsize'] = (10.0, 5.0)\n",
        "import seaborn as sns "
      ],
      "execution_count": null,
      "outputs": []
    },
    {
      "cell_type": "code",
      "metadata": {
        "id": "ZLEMMmE0YBfW"
      },
      "source": [
        "# Reading Data\n",
        "data=pd.read_csv('Forest Density with index.csv')"
      ],
      "execution_count": null,
      "outputs": []
    },
    {
      "cell_type": "code",
      "metadata": {
        "id": "pf9wLxQKZB9K",
        "colab": {
          "base_uri": "https://localhost:8080/",
          "height": 215
        },
        "outputId": "491857e1-ddc3-4046-9662-0572d3984bb4"
      },
      "source": [
        "print(data.shape)\n",
        "data.head()"
      ],
      "execution_count": null,
      "outputs": [
        {
          "output_type": "stream",
          "text": [
            "(60, 8)\n"
          ],
          "name": "stdout"
        },
        {
          "output_type": "execute_result",
          "data": {
            "text/html": [
              "<div>\n",
              "<style scoped>\n",
              "    .dataframe tbody tr th:only-of-type {\n",
              "        vertical-align: middle;\n",
              "    }\n",
              "\n",
              "    .dataframe tbody tr th {\n",
              "        vertical-align: top;\n",
              "    }\n",
              "\n",
              "    .dataframe thead th {\n",
              "        text-align: right;\n",
              "    }\n",
              "</style>\n",
              "<table border=\"1\" class=\"dataframe\">\n",
              "  <thead>\n",
              "    <tr style=\"text-align: right;\">\n",
              "      <th></th>\n",
              "      <th>Forest_Den</th>\n",
              "      <th>NDVI</th>\n",
              "      <th>GARI</th>\n",
              "      <th>MNDWI</th>\n",
              "      <th>NDII</th>\n",
              "      <th>OSAVI</th>\n",
              "      <th>NDBI</th>\n",
              "      <th>LAI</th>\n",
              "    </tr>\n",
              "  </thead>\n",
              "  <tbody>\n",
              "    <tr>\n",
              "      <th>0</th>\n",
              "      <td>1</td>\n",
              "      <td>0.130892</td>\n",
              "      <td>0.292274</td>\n",
              "      <td>-0.087524</td>\n",
              "      <td>0.144985</td>\n",
              "      <td>0.196336</td>\n",
              "      <td>-0.144985</td>\n",
              "      <td>0.402387</td>\n",
              "    </tr>\n",
              "    <tr>\n",
              "      <th>1</th>\n",
              "      <td>1</td>\n",
              "      <td>0.121020</td>\n",
              "      <td>0.279631</td>\n",
              "      <td>-0.078906</td>\n",
              "      <td>0.146495</td>\n",
              "      <td>0.181528</td>\n",
              "      <td>-0.146495</td>\n",
              "      <td>0.369988</td>\n",
              "    </tr>\n",
              "    <tr>\n",
              "      <th>2</th>\n",
              "      <td>1</td>\n",
              "      <td>0.127769</td>\n",
              "      <td>0.286926</td>\n",
              "      <td>-0.084686</td>\n",
              "      <td>0.155019</td>\n",
              "      <td>0.191651</td>\n",
              "      <td>-0.155019</td>\n",
              "      <td>0.393820</td>\n",
              "    </tr>\n",
              "    <tr>\n",
              "      <th>3</th>\n",
              "      <td>1</td>\n",
              "      <td>0.121140</td>\n",
              "      <td>0.277332</td>\n",
              "      <td>-0.078848</td>\n",
              "      <td>0.137975</td>\n",
              "      <td>0.181708</td>\n",
              "      <td>-0.137975</td>\n",
              "      <td>0.373453</td>\n",
              "    </tr>\n",
              "    <tr>\n",
              "      <th>4</th>\n",
              "      <td>1</td>\n",
              "      <td>0.093982</td>\n",
              "      <td>0.251646</td>\n",
              "      <td>-0.053798</td>\n",
              "      <td>0.119517</td>\n",
              "      <td>0.140972</td>\n",
              "      <td>-0.119517</td>\n",
              "      <td>0.274343</td>\n",
              "    </tr>\n",
              "  </tbody>\n",
              "</table>\n",
              "</div>"
            ],
            "text/plain": [
              "   Forest_Den      NDVI      GARI  ...     OSAVI      NDBI       LAI\n",
              "0           1  0.130892  0.292274  ...  0.196336 -0.144985  0.402387\n",
              "1           1  0.121020  0.279631  ...  0.181528 -0.146495  0.369988\n",
              "2           1  0.127769  0.286926  ...  0.191651 -0.155019  0.393820\n",
              "3           1  0.121140  0.277332  ...  0.181708 -0.137975  0.373453\n",
              "4           1  0.093982  0.251646  ...  0.140972 -0.119517  0.274343\n",
              "\n",
              "[5 rows x 8 columns]"
            ]
          },
          "metadata": {
            "tags": []
          },
          "execution_count": 123
        }
      ]
    },
    {
      "cell_type": "markdown",
      "metadata": {
        "id": "QvvzRVuDZdng"
      },
      "source": [
        "As you can see there are 60 values in the training set. We will find a linear relationship between forest_density and NDVI. So, now we will get these variables."
      ]
    },
    {
      "cell_type": "code",
      "metadata": {
        "id": "BcmFYoa2cY1G"
      },
      "source": [
        "# Collecting X and Y\n",
        "X = data['Forest_Den'].values\n",
        "Y = data['NDII'].values"
      ],
      "execution_count": null,
      "outputs": []
    },
    {
      "cell_type": "markdown",
      "metadata": {
        "id": "Z_Ma9YPHdVa-"
      },
      "source": [
        "To find the values β1\n",
        "​\t  and β0, we will need mean of X and Y. We will find these and the coeffients."
      ]
    },
    {
      "cell_type": "code",
      "metadata": {
        "id": "M7v8j-_QdQej"
      },
      "source": [
        "# Mean X and Y\n",
        "mean_x = np.mean(X)\n",
        "mean_y = np.mean(Y)"
      ],
      "execution_count": null,
      "outputs": []
    },
    {
      "cell_type": "code",
      "metadata": {
        "id": "tbETNmkBeGYj"
      },
      "source": [
        "# Total number of values\n",
        "m = len(X)"
      ],
      "execution_count": null,
      "outputs": []
    },
    {
      "cell_type": "code",
      "metadata": {
        "id": "BpZlWhQbiJbd"
      },
      "source": [
        "# Using the formula to calculate b1 and b2\n",
        "numer = 0\n",
        "denom = 0\n",
        "for i in range(m):\n",
        "    numer += (X[i] - mean_x) * (Y[i] - mean_y)\n",
        "    denom += (X[i] - mean_x) ** 2\n",
        "b1 = numer / denom\n",
        "b0 = mean_y - (b1 * mean_x)"
      ],
      "execution_count": null,
      "outputs": []
    },
    {
      "cell_type": "code",
      "metadata": {
        "id": "CPzy5voNih0-",
        "colab": {
          "base_uri": "https://localhost:8080/",
          "height": 34
        },
        "outputId": "c22b7f78-d139-4206-c12e-b6bc4583f73f"
      },
      "source": [
        "# Print coefficients\n",
        "print(b1, b0)"
      ],
      "execution_count": null,
      "outputs": [
        {
          "output_type": "stream",
          "text": [
            "0.06126062500000001 0.06484604999999993\n"
          ],
          "name": "stdout"
        }
      ]
    },
    {
      "cell_type": "markdown",
      "metadata": {
        "id": "5d9nZcX4ipeD"
      },
      "source": [
        "There we have our coefficients.\n",
        "NDVI = 0.037879576666666664 + 0.0694754025 * Forest_den.\n",
        "That is our linear model.\n",
        "Now we will see this graphically."
      ]
    },
    {
      "cell_type": "code",
      "metadata": {
        "id": "EeFK4YG7ikkq"
      },
      "source": [
        "# Plotting Values and Regression Line\n",
        "max_x = np.max(X) + 8\n",
        "min_x = np.min(X) -1\n",
        "# Calculating line values x and y\n",
        "x = np.linspace(min_x, max_x, 10)\n",
        "y = b0 + b1 * x"
      ],
      "execution_count": null,
      "outputs": []
    },
    {
      "cell_type": "code",
      "metadata": {
        "id": "ANRxdGrgkpLG",
        "colab": {
          "base_uri": "https://localhost:8080/",
          "height": 334
        },
        "outputId": "a85e6d44-6d31-447c-8b91-5320bb0f8012"
      },
      "source": [
        "# Ploting Line\n",
        "plt.plot(x, y, color='#58b970', label='Regression Line')\n",
        "# Ploting Scatter Points\n",
        "plt.scatter(X, Y, c='#ef5423', label='Scatter Plot')\n",
        "plt.xlabel('Forest_Den')\n",
        "plt.ylabel('NDII')\n",
        "plt.legend()\n",
        "plt.show()"
      ],
      "execution_count": null,
      "outputs": [
        {
          "output_type": "display_data",
          "data": {
            "image/png": "[encoded data removed]",
            "text/plain": [
              "<Figure size 720x360 with 1 Axes>"
            ]
          },
          "metadata": {
            "tags": []
          }
        }
      ]
    },
    {
      "cell_type": "markdown",
      "metadata": {
        "id": "vWnb4knXuR0V"
      },
      "source": [
        "This model is not so bad. But we need to find how good is our model. There are many methods to evaluate models. We will use Root Mean Squared Error and Coefficient of Determination(R^2 Score).\n",
        "Root Mean Squared Error is the square root of sum of all errors divided by number of values, or Mathematically"
      ]
    },
    {
      "cell_type": "code",
      "metadata": {
        "id": "HDJqG7GYuOQ2",
        "colab": {
          "base_uri": "https://localhost:8080/",
          "height": 34
        },
        "outputId": "a5b34918-5301-420b-cbc1-ace458f2ff8e"
      },
      "source": [
        "# Calculating Root Mean Squares Error\n",
        "rmse = 0\n",
        "for i in range(m):\n",
        "    y_pred = b0 + b1 * X[i]\n",
        "    rmse += (Y[i] - y_pred) ** 2\n",
        "rmse = np.sqrt(rmse/m)\n",
        "print(rmse)"
      ],
      "execution_count": null,
      "outputs": [
        {
          "output_type": "stream",
          "text": [
            "0.023619500874268767\n"
          ],
          "name": "stdout"
        }
      ]
    },
    {
      "cell_type": "markdown",
      "metadata": {
        "id": "eo-HVjgivLeX"
      },
      "source": [
        "R^2Score usually range from 0 to 1. It will also become negative if the model is completely wrong. Now we will find R^2 Score."
      ]
    },
    {
      "cell_type": "code",
      "metadata": {
        "id": "tJjVwV3CvTTa",
        "colab": {
          "base_uri": "https://localhost:8080/",
          "height": 34
        },
        "outputId": "f4668d7a-6fb1-4d0e-f8b8-333b860fa952"
      },
      "source": [
        "ss_t = 0\n",
        "ss_r = 0\n",
        "for i in range(m):\n",
        "    y_pred = b0 + b1 * X[i]\n",
        "    ss_t += (Y[i] - mean_y) ** 2\n",
        "    ss_r += (Y[i] - y_pred) ** 2\n",
        "r2 = 1 - (ss_r/ss_t)\n",
        "print(r2)"
      ],
      "execution_count": null,
      "outputs": [
        {
          "output_type": "stream",
          "text": [
            "0.8176735096227454\n"
          ],
          "name": "stdout"
        }
      ]
    },
    {
      "cell_type": "code",
      "metadata": {
        "id": "tKD07JYBmoIe"
      },
      "source": [
        "from sklearn.metrics import mean_absolute_error"
      ],
      "execution_count": null,
      "outputs": []
    },
    {
      "cell_type": "code",
      "metadata": {
        "id": "1nW2jjiQmu5m"
      },
      "source": [
        "y_true = []"
      ],
      "execution_count": null,
      "outputs": []
    }
  ]
}